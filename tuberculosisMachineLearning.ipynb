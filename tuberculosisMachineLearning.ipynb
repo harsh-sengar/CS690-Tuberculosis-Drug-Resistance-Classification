{
  "nbformat": 4,
  "nbformat_minor": 0,
  "metadata": {
    "colab": {
      "name": "tuberculosisMachineLearning.ipynb",
      "provenance": [],
      "collapsed_sections": [],
      "authorship_tag": "ABX9TyMkrJShqg0z3dbXk2TL7PS9",
      "include_colab_link": true
    },
    "kernelspec": {
      "name": "python3",
      "display_name": "Python 3"
    }
  },
  "cells": [
    {
      "cell_type": "markdown",
      "metadata": {
        "id": "view-in-github",
        "colab_type": "text"
      },
      "source": [
        "<a href=\"https://colab.research.google.com/github/harsh-sengar/tuberculosis-drug-resistance-classification/blob/master/tuberculosisMachineLearning.ipynb\" target=\"_parent\"><img src=\"https://colab.research.google.com/assets/colab-badge.svg\" alt=\"Open In Colab\"/></a>"
      ]
    },
    {
      "cell_type": "code",
      "metadata": {
        "id": "NqrssV1zUIyw",
        "outputId": "44ece07f-64cf-4174-b7fd-fba77183600f",
        "colab": {
          "base_uri": "https://localhost:8080/",
          "height": 54
        }
      },
      "source": [
        "from google.colab import drive\n",
        "drive.mount('/content/drive')"
      ],
      "execution_count": 3,
      "outputs": [
        {
          "output_type": "stream",
          "text": [
            "Drive already mounted at /content/drive; to attempt to forcibly remount, call drive.mount(\"/content/drive\", force_remount=True).\n"
          ],
          "name": "stdout"
        }
      ]
    },
    {
      "cell_type": "code",
      "metadata": {
        "id": "AXz__8uh1S8O"
      },
      "source": [
        "path = \"/content/drive/My Drive/IIT Kanpur/Genomics/Assignment1/data/X_trainData_1.csv\"\n",
        "X_trainData_1 = pd.read_csv(path)\n",
        "\n",
        "path1 = \"/content/drive/My Drive/IIT Kanpur/Genomics/Assignment1/data/Y_trainData_1.csv\"\n",
        "Y_trainData_1 = pd.read_csv(path1)"
      ],
      "execution_count": 4,
      "outputs": []
    },
    {
      "cell_type": "code",
      "metadata": {
        "id": "IcoTbJdr1U5O"
      },
      "source": [
        ""
      ],
      "execution_count": null,
      "outputs": []
    },
    {
      "cell_type": "code",
      "metadata": {
        "id": "HDu5m9wJ1VDE"
      },
      "source": [
        ""
      ],
      "execution_count": null,
      "outputs": []
    },
    {
      "cell_type": "code",
      "metadata": {
        "id": "CzGfAPr61TG0"
      },
      "source": [
        ""
      ],
      "execution_count": null,
      "outputs": []
    }
  ]
}