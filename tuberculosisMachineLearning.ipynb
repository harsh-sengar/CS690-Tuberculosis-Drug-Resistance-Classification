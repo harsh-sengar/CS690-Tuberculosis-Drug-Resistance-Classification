{
  "nbformat": 4,
  "nbformat_minor": 0,
  "metadata": {
    "colab": {
      "name": "tuberculosisMachineLearning.ipynb",
      "provenance": [],
      "collapsed_sections": [],
      "authorship_tag": "ABX9TyMxP3Fmp1EwzEdUK5gxyKN8",
      "include_colab_link": true
    },
    "kernelspec": {
      "name": "python3",
      "display_name": "Python 3"
    }
  },
  "cells": [
    {
      "cell_type": "markdown",
      "metadata": {
        "id": "view-in-github",
        "colab_type": "text"
      },
      "source": [
        "<a href=\"https://colab.research.google.com/github/harsh-sengar/tuberculosis-drug-resistance-classification/blob/master/tuberculosisMachineLearning.ipynb\" target=\"_parent\"><img src=\"https://colab.research.google.com/assets/colab-badge.svg\" alt=\"Open In Colab\"/></a>"
      ]
    },
    {
      "cell_type": "code",
      "metadata": {
        "id": "NqrssV1zUIyw",
        "outputId": "be255929-cb96-4ae6-9789-fc6a2f560f7e",
        "colab": {
          "base_uri": "https://localhost:8080/",
          "height": 54
        }
      },
      "source": [
        "from google.colab import drive\n",
        "import pandas as pd\n",
        "import numpy as np\n",
        "drive.mount('/content/drive')"
      ],
      "execution_count": 31,
      "outputs": [
        {
          "output_type": "stream",
          "text": [
            "Drive already mounted at /content/drive; to attempt to forcibly remount, call drive.mount(\"/content/drive\", force_remount=True).\n"
          ],
          "name": "stdout"
        }
      ]
    },
    {
      "cell_type": "code",
      "metadata": {
        "id": "AXz__8uh1S8O"
      },
      "source": [
        "path = \"/content/drive/My Drive/IIT Kanpur/Genomics/Assignment1/data/X_trainData_1.csv\"\n",
        "X_trainData_1 = pd.read_csv(path)\n",
        "\n",
        "path1 = \"/content/drive/My Drive/IIT Kanpur/Genomics/Assignment1/data/Y_trainData_1.csv\"\n",
        "Y_trainData_1 = pd.read_csv(path1)"
      ],
      "execution_count": 32,
      "outputs": []
    },
    {
      "cell_type": "code",
      "metadata": {
        "id": "GUKAytt5GDyb"
      },
      "source": [
        "Y_trainData_1 = Y_trainData_1.iloc[:, 1]"
      ],
      "execution_count": 33,
      "outputs": []
    },
    {
      "cell_type": "code",
      "metadata": {
        "id": "Esbc1xEnDq_h"
      },
      "source": [
        "x_train = np.array(X_trainData_1)\n",
        "y_train = np.array(Y_trainData_1)"
      ],
      "execution_count": 34,
      "outputs": []
    },
    {
      "cell_type": "code",
      "metadata": {
        "id": "aXjaFxQQFQFu"
      },
      "source": [
        "from sklearn.model_selection import train_test_split\n",
        "X_train, X_test, y_train, y_test = train_test_split(\n",
        "    x_train, y_train, test_size=0.33, random_state=42)"
      ],
      "execution_count": 35,
      "outputs": []
    },
    {
      "cell_type": "code",
      "metadata": {
        "id": "IcoTbJdr1U5O",
        "outputId": "8d574797-d83d-46b4-91a9-8f6003215ddb",
        "colab": {
          "base_uri": "https://localhost:8080/",
          "height": 34
        }
      },
      "source": [
        "from xgboost import XGBClassifier\n",
        "from sklearn.metrics import accuracy_score\n",
        "from matplotlib import pyplot\n",
        "\n",
        "clf6 = XGBClassifier(max_depth=7, eta = 0.2, gamma = 3, nrounds = 40)\n",
        "\n",
        "clf6.fit(X_train, y_train)\n",
        "y_pred4 = clf6.predict(X_test)\n",
        "accuracy = accuracy_score(y_test, y_pred4)\n",
        "print(\"Accuracy: %.2f%%\" % (accuracy * 100.0))"
      ],
      "execution_count": 36,
      "outputs": [
        {
          "output_type": "stream",
          "text": [
            "Accuracy: 95.36%\n"
          ],
          "name": "stdout"
        }
      ]
    },
    {
      "cell_type": "code",
      "metadata": {
        "id": "HDu5m9wJ1VDE",
        "outputId": "0e80279b-992d-47d5-8b65-00259e885574",
        "colab": {
          "base_uri": "https://localhost:8080/",
          "height": 221
        }
      },
      "source": [
        ""
      ],
      "execution_count": 24,
      "outputs": [
        {
          "output_type": "execute_result",
          "data": {
            "text/plain": [
              "0       0\n",
              "1       0\n",
              "2       0\n",
              "3       0\n",
              "4       0\n",
              "       ..\n",
              "3388    1\n",
              "3389    1\n",
              "3390    0\n",
              "3391    1\n",
              "3392    1\n",
              "Name: RIF, Length: 3393, dtype: int64"
            ]
          },
          "metadata": {
            "tags": []
          },
          "execution_count": 24
        }
      ]
    },
    {
      "cell_type": "code",
      "metadata": {
        "id": "CzGfAPr61TG0"
      },
      "source": [
        ""
      ],
      "execution_count": null,
      "outputs": []
    }
  ]
}