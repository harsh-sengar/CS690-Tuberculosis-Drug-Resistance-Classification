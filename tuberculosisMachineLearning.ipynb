{
  "nbformat": 4,
  "nbformat_minor": 0,
  "metadata": {
    "colab": {
      "name": "tuberculosisMachineLearning.ipynb",
      "provenance": [],
      "collapsed_sections": [],
      "authorship_tag": "ABX9TyNogaysN8xIiwfNFK8gAu0x",
      "include_colab_link": true
    },
    "kernelspec": {
      "name": "python3",
      "display_name": "Python 3"
    }
  },
  "cells": [
    {
      "cell_type": "markdown",
      "metadata": {
        "id": "view-in-github",
        "colab_type": "text"
      },
      "source": [
        "<a href=\"https://colab.research.google.com/github/harsh-sengar/tuberculosis-drug-resistance-classification/blob/master/tuberculosisMachineLearning.ipynb\" target=\"_parent\"><img src=\"https://colab.research.google.com/assets/colab-badge.svg\" alt=\"Open In Colab\"/></a>"
      ]
    },
    {
      "cell_type": "code",
      "metadata": {
        "id": "NqrssV1zUIyw",
        "outputId": "ff4f3ffc-f227-4811-98f9-c00bdb807a89",
        "colab": {
          "base_uri": "https://localhost:8080/",
          "height": 34
        }
      },
      "source": [
        "from google.colab import drive\n",
        "import pandas as pd\n",
        "import numpy as np\n",
        "drive.mount('/content/drive')"
      ],
      "execution_count": 3,
      "outputs": [
        {
          "output_type": "stream",
          "text": [
            "Mounted at /content/drive\n"
          ],
          "name": "stdout"
        }
      ]
    },
    {
      "cell_type": "code",
      "metadata": {
        "id": "AXz__8uh1S8O"
      },
      "source": [
        "path = \"/content/drive/My Drive/IIT Kanpur/Genomics/Assignment1/data/X_trainData_1.csv\"\n",
        "X_trainData_1 = pd.read_csv(path)\n",
        "\n",
        "path1 = \"/content/drive/My Drive/IIT Kanpur/Genomics/Assignment1/data/Y_trainData_1.csv\"\n",
        "Y_trainData_1 = pd.read_csv(path1)"
      ],
      "execution_count": 4,
      "outputs": []
    },
    {
      "cell_type": "code",
      "metadata": {
        "id": "Esbc1xEnDq_h"
      },
      "source": [
        "x_train1 = np.array(X_trainData_1)\n",
        "y_train1 = np.array(Y_trainData_1)"
      ],
      "execution_count": 5,
      "outputs": []
    },
    {
      "cell_type": "code",
      "metadata": {
        "id": "aXjaFxQQFQFu"
      },
      "source": [
        "from sklearn.model_selection import train_test_split\n",
        "X_train, X_test, y_train, y_test = train_test_split(\n",
        "    x_train1, y_train1, test_size=0.33, random_state=42)"
      ],
      "execution_count": 6,
      "outputs": []
    },
    {
      "cell_type": "markdown",
      "metadata": {
        "id": "LefhQdtC9F2-"
      },
      "source": [
        "# Xgboost classifier"
      ]
    },
    {
      "cell_type": "code",
      "metadata": {
        "id": "HDu5m9wJ1VDE"
      },
      "source": [
        "from xgboost import XGBClassifier\n",
        "from sklearn.preprocessing import MultiLabelBinarizer\n",
        "from sklearn.multioutput import MultiOutputClassifier\n",
        "from sklearn.metrics import accuracy_score\n",
        "\n",
        "clf = MultiOutputClassifier(XGBClassifier(max_depth=7, eta = 0.2, gamma = 3, nrounds = 40))\n",
        "\n",
        "clf.fit(X_train, y_train)\n",
        "y_pred = clf.predict(X_test)\n",
        "#accuracy = accuracy_score(y_test, y_pred)\n",
        "#print(\"Accuracy: %.2f%%\" % (accuracy * 100.0))"
      ],
      "execution_count": null,
      "outputs": []
    },
    {
      "cell_type": "code",
      "metadata": {
        "id": "CzGfAPr61TG0"
      },
      "source": [
        "#clf.score(X_test, y_test)"
      ],
      "execution_count": null,
      "outputs": []
    },
    {
      "cell_type": "code",
      "metadata": {
        "id": "MGRm4_2zefip"
      },
      "source": [
        ""
      ],
      "execution_count": null,
      "outputs": []
    },
    {
      "cell_type": "markdown",
      "metadata": {
        "id": "sFbFJgta9Z22"
      },
      "source": [
        "## Neural Network for Single Task Classification"
      ]
    },
    {
      "cell_type": "code",
      "metadata": {
        "id": "r8S6ECMX9fw2",
        "outputId": "ec0c6369-b70b-4849-d174-c91aa3897661",
        "colab": {
          "base_uri": "https://localhost:8080/",
          "height": 34
        }
      },
      "source": [
        "import pandas\n",
        "from keras.models import Sequential\n",
        "from keras.layers import Dense, Dropout, Input\n",
        "from keras.wrappers.scikit_learn import KerasClassifier\n",
        "from keras.utils import np_utils\n",
        "from sklearn.model_selection import cross_val_score\n",
        "from sklearn.model_selection import KFold\n",
        "from sklearn.preprocessing import LabelEncoder\n",
        "from sklearn.pipeline import Pipeline\n",
        "\n",
        "X = x_train1\n",
        "Y = y_train1[:,0]\n",
        "\n",
        "encoder = LabelEncoder()\n",
        "encoder.fit(Y)\n",
        "encoded_Y = encoder.transform(Y)\n",
        "encoded_Y = np_utils.to_categorical(encoded_Y)\n",
        "\n",
        "def neuralNetworkModelWithTHREEoutputs():\n",
        "    model = Sequential()\n",
        "    model.add(Dense(200, input_dim = 222, activation='relu'))\n",
        "    model.add(Dropout(0.4))\n",
        "    model.add(Dense(150, activation='relu'))\n",
        "    model.add(Dropout(0.4))\n",
        "    model.add(Dense(75, activation='relu'))\n",
        "    model.add(Dense(15, activation='relu'))\n",
        "    model.add(Dense(3, activation='sigmoid'))\n",
        "\n",
        "    model.compile(loss='binary_crossentropy', optimizer='adam', metrics=['accuracy'])\n",
        "    return model\n",
        "\n",
        "estimator = KerasClassifier(build_fn=neuralNetworkModelWithTHREEoutputs, epochs=20, batch_size=50, verbose=0)\n",
        "kfold = KFold(n_splits=10, shuffle=True)\n",
        "results = cross_val_score(estimator, X, encoded_Y, cv=kfold)\n",
        "print(\"neuralNetwork: %.2f%% (%.2f%%)\" % (results.mean()*100, results.std()*100))\n",
        "\n"
      ],
      "execution_count": 8,
      "outputs": [
        {
          "output_type": "stream",
          "text": [
            "neuralNetwork: 95.05% (1.46%)\n"
          ],
          "name": "stdout"
        }
      ]
    },
    {
      "cell_type": "code",
      "metadata": {
        "id": "bXnTvYk-9ihv"
      },
      "source": [
        ""
      ],
      "execution_count": null,
      "outputs": []
    },
    {
      "cell_type": "code",
      "metadata": {
        "id": "44N6W6BJ9isl"
      },
      "source": [
        ""
      ],
      "execution_count": null,
      "outputs": []
    },
    {
      "cell_type": "code",
      "metadata": {
        "id": "-vYwgZLS9izL"
      },
      "source": [
        ""
      ],
      "execution_count": null,
      "outputs": []
    }
  ]
}