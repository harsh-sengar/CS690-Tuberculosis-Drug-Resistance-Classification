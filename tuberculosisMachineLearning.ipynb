{
  "nbformat": 4,
  "nbformat_minor": 0,
  "metadata": {
    "colab": {
      "name": "tuberculosisMachineLearning.ipynb",
      "provenance": [],
      "collapsed_sections": [],
      "authorship_tag": "ABX9TyMEeTj9Mb/xqE1HC3UaFy4s",
      "include_colab_link": true
    },
    "kernelspec": {
      "name": "python3",
      "display_name": "Python 3"
    }
  },
  "cells": [
    {
      "cell_type": "markdown",
      "metadata": {
        "id": "view-in-github",
        "colab_type": "text"
      },
      "source": [
        "<a href=\"https://colab.research.google.com/github/harsh-sengar/tuberculosis-drug-resistance-classification/blob/master/tuberculosisMachineLearning.ipynb\" target=\"_parent\"><img src=\"https://colab.research.google.com/assets/colab-badge.svg\" alt=\"Open In Colab\"/></a>"
      ]
    },
    {
      "cell_type": "code",
      "metadata": {
        "id": "NqrssV1zUIyw",
        "outputId": "ff4f3ffc-f227-4811-98f9-c00bdb807a89",
        "colab": {
          "base_uri": "https://localhost:8080/",
          "height": 34
        }
      },
      "source": [
        "from google.colab import drive\n",
        "import pandas as pd\n"
      ],
      "execution_count": null,
      "outputs": [
        {
          "output_type": "stream",
          "text": [
            "Mounted at /content/drive\n"
          ],
          "name": "stdout"
        }
      ]
    },
    {
      "cell_type": "code",
      "metadata": {
        "id": "AXz__8uh1S8O"
      },
      "source": [
        "#drive.mount('/content/drive')\n",
        "#path = \"/content/drive/My Drive/IIT Kanpur/Genomics/Assignment1/data/X_trainData_1.csv\"\n",
        "#X_trainData_1 = pd.read_csv(path)\n",
        "#path1 = \"/content/drive/My Drive/IIT Kanpur/Genomics/Assignment1/data/Y_trainData_1.csv\"\n",
        "#Y_trainData_1 = pd.read_csv(path1)"
      ],
      "execution_count": null,
      "outputs": []
    },
    {
      "cell_type": "code",
      "metadata": {
        "id": "dNiHqL8NPRBs"
      },
      "source": [
        "import pandas as pd\n",
        "import numpy as np\n",
        "dataset = pd.read_csv('https://raw.githubusercontent.com/harsh-sengar/tuberculosis-drug-resistance-classification/master/modified_dataset/X_trainData_RIF.csv?token=AHJLH6GCLUB3OHUJGBAP3GS7PWBMI')\n",
        "dataset = np.array(dataset)\n",
        "X_trainData_1 = (dataset[:,:222])\n",
        "Y_trainData_1 = (dataset[:,222])"
      ],
      "execution_count": 27,
      "outputs": []
    },
    {
      "cell_type": "code",
      "metadata": {
        "id": "ja8C-x-6Ftd8"
      },
      "source": [
        ""
      ],
      "execution_count": null,
      "outputs": []
    },
    {
      "cell_type": "code",
      "metadata": {
        "id": "N60knFEZFtl2"
      },
      "source": [
        "dataset = pd.read_csv('/Users/shrshva/Desktop/IIT/Courses/Computational Genomics/Assignment/CS690_MDRTB_Assignment_Data/X_trainData_column_modified_RIF.csv')\n",
        "dataset = np.array(dataset)\n",
        "X_trainData_1 = (dataset[:,:219])\n",
        "Y_trainData_1 = (dataset[:,219])"
      ],
      "execution_count": null,
      "outputs": []
    },
    {
      "cell_type": "code",
      "metadata": {
        "id": "rRNPUQTlF0pM"
      },
      "source": [
        "x_train1 = np.array(X_trainData_1)\n",
        "y_train1 = np.array(Y_trainData_1)"
      ],
      "execution_count": null,
      "outputs": []
    },
    {
      "cell_type": "code",
      "metadata": {
        "id": "CMLPi6bJQcqq",
        "outputId": "40ca3933-9c1c-4b18-e64a-baceb3a6a365",
        "colab": {
          "base_uri": "https://localhost:8080/"
        }
      },
      "source": [
        "test = pd.read_csv('/Users/shrshva/Desktop/IIT/Courses/Computational Genomics/Assignment/CS690_MDRTB_Assignment_Data/X_testData_1_modified.csv')\n",
        "x_test_amk = np.array(test)"
      ],
      "execution_count": 23,
      "outputs": [
        {
          "output_type": "execute_result",
          "data": {
            "text/plain": [
              "222"
            ]
          },
          "metadata": {
            "tags": []
          },
          "execution_count": 23
        }
      ]
    },
    {
      "cell_type": "code",
      "metadata": {
        "id": "Esbc1xEnDq_h"
      },
      "source": [
        "x_train1 = np.array(X_trainData_1)\n",
        "y_train1 = np.array(Y_trainData_1)"
      ],
      "execution_count": 28,
      "outputs": []
    },
    {
      "cell_type": "code",
      "metadata": {
        "id": "aXjaFxQQFQFu"
      },
      "source": [
        "from sklearn.model_selection import train_test_split\n",
        "X_train, X_test, y_train, y_test = train_test_split(\n",
        "    x_train1, y_train1, test_size=0.33, random_state=42)"
      ],
      "execution_count": 29,
      "outputs": []
    },
    {
      "cell_type": "markdown",
      "metadata": {
        "id": "LefhQdtC9F2-"
      },
      "source": [
        "# Xgboost classifier"
      ]
    },
    {
      "cell_type": "code",
      "metadata": {
        "id": "HDu5m9wJ1VDE"
      },
      "source": [
        "from xgboost import XGBClassifier\n",
        "from sklearn.preprocessing import MultiLabelBinarizer\n",
        "from sklearn.multioutput import MultiOutputClassifier\n",
        "from sklearn.metrics import accuracy_score\n",
        "\n",
        "clf = XGBClassifier(max_depth=7, eta = 0.2, gamma = 3, nrounds = 40)\n",
        "\n",
        "clf.fit(x_train1, y_train1)\n",
        "y_pred = clf.predict_proba(x_test_amk)\n",
        "accuracy = accuracy_score(y_test, y_pred)\n",
        "print(\"Accuracy: %.2f%%\" % (accuracy * 100.0))"
      ],
      "execution_count": 49,
      "outputs": []
    },
    {
      "cell_type": "code",
      "metadata": {
        "id": "CzGfAPr61TG0"
      },
      "source": [
        "#clf.score(X_test, y_test)"
      ],
      "execution_count": null,
      "outputs": []
    },
    {
      "cell_type": "code",
      "metadata": {
        "id": "MGRm4_2zefip"
      },
      "source": [
        ""
      ],
      "execution_count": null,
      "outputs": []
    },
    {
      "cell_type": "markdown",
      "metadata": {
        "id": "sFbFJgta9Z22"
      },
      "source": [
        "## Neural Network for Single Task Classification"
      ]
    },
    {
      "cell_type": "code",
      "metadata": {
        "id": "r8S6ECMX9fw2",
        "outputId": "425297ef-515e-4c5f-e27e-05f0064f0e58",
        "colab": {
          "base_uri": "https://localhost:8080/"
        }
      },
      "source": [
        "import pandas\n",
        "from keras.models import Sequential\n",
        "from keras.layers import Dense, Dropout, Input\n",
        "from keras.wrappers.scikit_learn import KerasClassifier\n",
        "from keras.utils import np_utils\n",
        "from sklearn.model_selection import cross_val_score\n",
        "from sklearn.model_selection import KFold\n",
        "from sklearn.preprocessing import LabelEncoder\n",
        "from sklearn.pipeline import Pipeline\n",
        "\n",
        "X = x_train1\n",
        "Y = y_train1\n",
        "\n",
        "encoder = LabelEncoder()\n",
        "encoder.fit(Y)\n",
        "encoded_Y = encoder.transform(Y)\n",
        "encoded_Y = np_utils.to_categorical(encoded_Y)\n",
        "\n",
        "def neuralNetworkModelWithTHREEoutputs():\n",
        "    model = Sequential()\n",
        "    model.add(Dense(200, input_dim = 222, activation='relu'))\n",
        "    model.add(Dropout(0.4))\n",
        "    model.add(Dense(150, activation='relu'))\n",
        "    model.add(Dropout(0.4))\n",
        "    model.add(Dense(75, activation='relu'))\n",
        "    model.add(Dense(15, activation='relu'))\n",
        "    model.add(Dense(1, activation='sigmoid'))\n",
        "\n",
        "    model.compile(loss='binary_crossentropy', optimizer='adam', metrics=['accuracy'])\n",
        "    return model\n",
        "\n",
        "estimator = KerasClassifier(build_fn=neuralNetworkModelWithTHREEoutputs, epochs=20, batch_size=50, verbose=0)\n",
        "kfold = KFold(n_splits=10, shuffle=True)\n",
        "results = cross_val_score(estimator, X, Y, cv=kfold)\n",
        "print(\"neuralNetwork: %.2f%% (%.2f%%)\" % (results.mean()*100, results.std()*100))\n",
        "\n"
      ],
      "execution_count": 33,
      "outputs": [
        {
          "output_type": "stream",
          "text": [
            "neuralNetwork: 96.46% (0.71%)\n"
          ],
          "name": "stdout"
        }
      ]
    },
    {
      "cell_type": "code",
      "metadata": {
        "id": "bXnTvYk-9ihv"
      },
      "source": [
        ""
      ],
      "execution_count": null,
      "outputs": []
    },
    {
      "cell_type": "code",
      "metadata": {
        "id": "44N6W6BJ9isl"
      },
      "source": [
        ""
      ],
      "execution_count": null,
      "outputs": []
    },
    {
      "cell_type": "code",
      "metadata": {
        "id": "-vYwgZLS9izL"
      },
      "source": [
        ""
      ],
      "execution_count": null,
      "outputs": []
    }
  ]
}