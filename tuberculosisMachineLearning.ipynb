{
  "nbformat": 4,
  "nbformat_minor": 0,
  "metadata": {
    "colab": {
      "name": "tuberculosisMachineLearning.ipynb",
      "provenance": [],
      "collapsed_sections": [],
      "authorship_tag": "ABX9TyP98RIQ8csKjaurmFfRKZWV",
      "include_colab_link": true
    },
    "kernelspec": {
      "name": "python3",
      "display_name": "Python 3"
    }
  },
  "cells": [
    {
      "cell_type": "markdown",
      "metadata": {
        "id": "view-in-github",
        "colab_type": "text"
      },
      "source": [
        "<a href=\"https://colab.research.google.com/github/harsh-sengar/tuberculosis-drug-resistance-classification/blob/master/tuberculosisMachineLearning.ipynb\" target=\"_parent\"><img src=\"https://colab.research.google.com/assets/colab-badge.svg\" alt=\"Open In Colab\"/></a>"
      ]
    },
    {
      "cell_type": "code",
      "metadata": {
        "id": "NqrssV1zUIyw",
        "outputId": "bc6b40c1-fb3a-421b-ef72-f61be3f035d0",
        "colab": {
          "base_uri": "https://localhost:8080/",
          "height": 34
        }
      },
      "source": [
        "from google.colab import drive\n",
        "import pandas as pd\n",
        "import numpy as np\n",
        "drive.mount('/content/drive')"
      ],
      "execution_count": 1,
      "outputs": [
        {
          "output_type": "stream",
          "text": [
            "Mounted at /content/drive\n"
          ],
          "name": "stdout"
        }
      ]
    },
    {
      "cell_type": "code",
      "metadata": {
        "id": "AXz__8uh1S8O"
      },
      "source": [
        "path = \"/content/drive/My Drive/IIT Kanpur/Genomics/Assignment1/data/X_trainData_1.csv\"\n",
        "X_trainData_1 = pd.read_csv(path)\n",
        "\n",
        "path1 = \"/content/drive/My Drive/IIT Kanpur/Genomics/Assignment1/data/Y_trainData_1.csv\"\n",
        "Y_trainData_1 = pd.read_csv(path1)"
      ],
      "execution_count": 30,
      "outputs": []
    },
    {
      "cell_type": "code",
      "metadata": {
        "id": "GUKAytt5GDyb"
      },
      "source": [
        "#Y_trainData_1 = Y_trainData_1.iloc[:, 9]"
      ],
      "execution_count": 31,
      "outputs": []
    },
    {
      "cell_type": "code",
      "metadata": {
        "id": "Esbc1xEnDq_h"
      },
      "source": [
        "x_train = np.array(X_trainData_1)\n",
        "y_train = np.array(Y_trainData_1)"
      ],
      "execution_count": 32,
      "outputs": []
    },
    {
      "cell_type": "code",
      "metadata": {
        "id": "aXjaFxQQFQFu"
      },
      "source": [
        "from sklearn.model_selection import train_test_split\n",
        "X_train, X_test, y_train, y_test = train_test_split(\n",
        "    x_train, y_train, test_size=0.33, random_state=42)"
      ],
      "execution_count": 33,
      "outputs": []
    },
    {
      "cell_type": "code",
      "metadata": {
        "id": "HDu5m9wJ1VDE"
      },
      "source": [
        "from xgboost import XGBClassifier\n",
        "from sklearn.preprocessing import MultiLabelBinarizer\n",
        "from sklearn.multioutput import MultiOutputClassifier\n",
        "from sklearn.metrics import accuracy_score\n",
        "\n",
        "clf = MultiOutputClassifier(XGBClassifier(max_depth=7, eta = 0.2, gamma = 3, nrounds = 40))\n",
        "\n",
        "clf.fit(X_train, y_train)\n",
        "y_pred = clf.predict(X_test)\n",
        "#accuracy = accuracy_score(y_test, y_pred)\n",
        "#print(\"Accuracy: %.2f%%\" % (accuracy * 100.0))"
      ],
      "execution_count": 35,
      "outputs": []
    },
    {
      "cell_type": "code",
      "metadata": {
        "id": "CzGfAPr61TG0"
      },
      "source": [
        "#clf.score(X_test, y_test)"
      ],
      "execution_count": 8,
      "outputs": []
    },
    {
      "cell_type": "code",
      "metadata": {
        "id": "MGRm4_2zefip"
      },
      "source": [
        ""
      ],
      "execution_count": 36,
      "outputs": []
    }
  ]
}